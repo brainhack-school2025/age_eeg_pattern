{
 "cells": [
  {
   "cell_type": "code",
   "execution_count": 1,
   "id": "fdebf561",
   "metadata": {},
   "outputs": [],
   "source": [
    "# open a .npy file\n",
    "import os\n",
    "import numpy as np\n"
   ]
  },
  {
   "cell_type": "code",
   "execution_count": 7,
   "id": "d535e67e",
   "metadata": {},
   "outputs": [
    {
     "ename": "NameError",
     "evalue": "name '__file__' is not defined",
     "output_type": "error",
     "traceback": [
      "\u001b[1;31m---------------------------------------------------------------------------\u001b[0m",
      "\u001b[1;31mNameError\u001b[0m                                 Traceback (most recent call last)",
      "Cell \u001b[1;32mIn[7], line 1\u001b[0m\n\u001b[1;32m----> 1\u001b[0m path \u001b[38;5;241m=\u001b[39m os\u001b[38;5;241m.\u001b[39mpath\u001b[38;5;241m.\u001b[39mjoin(os\u001b[38;5;241m.\u001b[39mpath\u001b[38;5;241m.\u001b[39mdirname(\u001b[38;5;18;43m__file__\u001b[39;49m), \u001b[38;5;124m'\u001b[39m\u001b[38;5;124mdata\u001b[39m\u001b[38;5;124m'\u001b[39m, \u001b[38;5;124m'\u001b[39m\u001b[38;5;124moutputAlphaPower.npy\u001b[39m\u001b[38;5;124m'\u001b[39m)\n\u001b[0;32m      2\u001b[0m \u001b[38;5;66;03m# load the .npy file\u001b[39;00m\n\u001b[0;32m      3\u001b[0m data \u001b[38;5;241m=\u001b[39m np\u001b[38;5;241m.\u001b[39mload(path, allow_pickle\u001b[38;5;241m=\u001b[39m\u001b[38;5;28;01mTrue\u001b[39;00m)\n",
      "\u001b[1;31mNameError\u001b[0m: name '__file__' is not defined"
     ]
    }
   ],
   "source": [
    "path = os.path.join(os.path.dirname(__file__), 'data', 'outputAlphaPower.npy')\n",
    "# load the .npy file\n",
    "data = np.load(path, allow_pickle=True)\n",
    "# print the data\n",
    "#print(data)"
   ]
  },
  {
   "cell_type": "code",
   "execution_count": 27,
   "id": "c598bfe5",
   "metadata": {},
   "outputs": [
    {
     "name": "stdout",
     "output_type": "stream",
     "text": [
      "True\n"
     ]
    }
   ],
   "source": [
    "path = 'D:/data/TDBRAIN/derivatives/results_manuscript/outputAlphaPower.npy'\n",
    "print(os.path.exists(path))"
   ]
  },
  {
   "cell_type": "code",
   "execution_count": 1,
   "id": "e844ca16",
   "metadata": {},
   "outputs": [],
   "source": [
    "def load_npy_file(path):\n",
    "    \"\"\"\n",
    "    Load a .npy file and return the data.\n",
    "    \n",
    "    Parameters:\n",
    "    path (str): The path to the .npy file.\n",
    "    \n",
    "    Returns:\n",
    "    data: The data loaded from the .npy file.\n",
    "    \"\"\"\n",
    "    if not os.path.exists(path):\n",
    "        raise FileNotFoundError(f\"The file {path} does not exist.\")\n",
    "    \n",
    "    data = np.load(path, allow_pickle=True)\n",
    "    \n",
    "    return data"
   ]
  },
  {
   "cell_type": "code",
   "execution_count": 30,
   "id": "faac82a9",
   "metadata": {},
   "outputs": [
    {
     "name": "stdout",
     "output_type": "stream",
     "text": [
      "{'IDcodes': ['a'], 'conds': [99], 'session': [99], 'age': [199], 'sex': [99], 'power': array([], shape=(0, 0), dtype=float64), 'freqs': array([], dtype=float64)}\n"
     ]
    }
   ],
   "source": [
    "print(data)"
   ]
  },
  {
   "cell_type": "code",
   "execution_count": 32,
   "id": "7208db13",
   "metadata": {},
   "outputs": [
    {
     "name": "stdout",
     "output_type": "stream",
     "text": [
      "True\n"
     ]
    }
   ],
   "source": [
    "path1 = \"D:/data/TDBRAIN/derivatives/preprocessed/sub-19681385/ses-1/eeg/sub-19681385_ses-1_task-restEC_eeg_csv_120.03s.npy\"\n",
    "print(os.path.exists(path1))"
   ]
  },
  {
   "cell_type": "code",
   "execution_count": 33,
   "id": "a4f1359b",
   "metadata": {},
   "outputs": [],
   "source": [
    "data = np.load(path1, allow_pickle=True)"
   ]
  },
  {
   "cell_type": "code",
   "execution_count": 34,
   "id": "311fd117",
   "metadata": {},
   "outputs": [
    {
     "data": {
      "text/plain": [
       "dict"
      ]
     },
     "execution_count": 34,
     "metadata": {},
     "output_type": "execute_result"
    }
   ],
   "source": [
    "type(data)"
   ]
  },
  {
   "cell_type": "code",
   "execution_count": 35,
   "id": "6213da03",
   "metadata": {},
   "outputs": [
    {
     "name": "stdout",
     "output_type": "stream",
     "text": [
      "{'artifacts': {'VEOG': array([[    0,  1378],\n",
      "       [ 1398,  1448],\n",
      "       [ 1457,  3330],\n",
      "       [ 3379,  4351],\n",
      "       [ 4354,  4534],\n",
      "       [ 4536,  5252],\n",
      "       [ 5255,  9298],\n",
      "       [ 9338,  9410],\n",
      "       [ 9415,  9447],\n",
      "       [ 9463,  9674],\n",
      "       [ 9677,  9733],\n",
      "       [ 9754, 11325],\n",
      "       [11355, 11600],\n",
      "       [11619, 13454],\n",
      "       [13478, 13544],\n",
      "       [13568, 13595],\n",
      "       [13604, 13686],\n",
      "       [13796, 13860],\n",
      "       [13865, 15398],\n",
      "       [15403, 16522],\n",
      "       [16540, 16697],\n",
      "       [16739, 18381],\n",
      "       [18407, 18458],\n",
      "       [18496, 22265],\n",
      "       [22268, 23438],\n",
      "       [23441, 23686],\n",
      "       [23755, 23799],\n",
      "       [23816, 23872],\n",
      "       [23881, 23929],\n",
      "       [23959, 23986],\n",
      "       [23989, 24578],\n",
      "       [24618, 26720],\n",
      "       [26727, 26751],\n",
      "       [26758, 26930],\n",
      "       [26940, 35943],\n",
      "       [35947, 35958],\n",
      "       [35968, 36013],\n",
      "       [36033, 38632],\n",
      "       [38636, 38787],\n",
      "       [38806, 39009],\n",
      "       [39018, 39068],\n",
      "       [39077, 43207],\n",
      "       [43244, 43266],\n",
      "       [43288, 44833],\n",
      "       [44847, 44854],\n",
      "       [44891, 49591],\n",
      "       [49660, 49842],\n",
      "       [49847, 49890],\n",
      "       [49906, 49960],\n",
      "       [49983, 50341],\n",
      "       [50360, 50868],\n",
      "       [50936, 50960],\n",
      "       [51002, 51251],\n",
      "       [51281, 51320],\n",
      "       [51380, 53244],\n",
      "       [53277, 55232],\n",
      "       [55264, 55292],\n",
      "       [55320, 61015]]), 'HEOG': array([[    0,  6432],\n",
      "       [ 6452, 18324],\n",
      "       [18329, 18341],\n",
      "       [18374, 19588],\n",
      "       [19683, 25149],\n",
      "       [25179, 25185],\n",
      "       [25186, 28241],\n",
      "       [28242, 34962],\n",
      "       [34985, 39254],\n",
      "       [39272, 39321],\n",
      "       [39349, 47127],\n",
      "       [47146, 47181],\n",
      "       [47238, 49385],\n",
      "       [49422, 50909],\n",
      "       [50937, 57572],\n",
      "       [57614, 59706],\n",
      "       [59753, 59769],\n",
      "       [59793, 61015]]), 'EMGsamps': array([[0., 0., 0., ..., 0., 0., 0.],\n",
      "       [0., 0., 0., ..., 0., 0., 0.],\n",
      "       [0., 0., 0., ..., 0., 0., 0.],\n",
      "       ...,\n",
      "       [0., 0., 0., ..., 0., 0., 0.],\n",
      "       [0., 0., 0., ..., 0., 0., 0.],\n",
      "       [0., 0., 0., ..., 0., 0., 0.]]), 'EMGtrl': array([[ 8656,  9020],\n",
      "       [ 9051,  9414],\n",
      "       [24507, 24859],\n",
      "       [44166, 44531],\n",
      "       [54601, 54957],\n",
      "       [56840, 57333]]), 'JUMPsamps': array([[0., 0., 0., ..., 0., 0., 0.],\n",
      "       [0., 0., 0., ..., 0., 0., 0.],\n",
      "       [0., 0., 0., ..., 0., 0., 0.],\n",
      "       ...,\n",
      "       [0., 0., 0., ..., 0., 0., 0.],\n",
      "       [0., 0., 0., ..., 0., 0., 0.],\n",
      "       [0., 0., 0., ..., 0., 0., 0.]]), 'JUMPtrl': [], 'KURTtrl': array([], dtype=float64), 'SWINGtrl': array([], dtype=float64), 'EBsamps': array([[0., 0., 0., ..., 0., 0., 0.],\n",
      "       [0., 0., 0., ..., 0., 0., 0.],\n",
      "       [0., 0., 0., ..., 0., 0., 0.],\n",
      "       ...,\n",
      "       [0., 0., 0., ..., 0., 0., 0.],\n",
      "       [0., 0., 0., ..., 0., 0., 0.],\n",
      "       [0., 0., 0., ..., 0., 0., 0.]]), 'EBtrl': [], 'bad channels': array(['T8'], dtype='<U32'), 'bridging channels': [], 'empty channels': []}, 'info': {'fileID': '/mnt/d/data/TDBRAIN/derivatives/sub-19681385/ses-1/eeg/sub-19681385_ses-1_task-restEC_eeg.csv', 'filtered': ['hp: 0.5 ,lp: 100 ,notch: 50'], 'EMG detection': '6 artifacts detected @ threshold: Z = 4', 'jump detection': '0 jumps/baseline shifts detected @ threshold: Z = 5', 'kurtosis detection': '0 samples with kurtosis detected @ threshold: Z = 8', 'swing-detection': '0 samples with extreme voltage swing @ threshold: Z = 200', 'EB detection': '0 artifacts detected @ threshold: Z = 0.5', 'bad channels': '1 detected @ threshold: 0.3333333333333333', 'bridging channels': '0 briding channels', 'empty channels': '0 empty channels', 'repairing channels': 'repaired 1 bad, empty and/or bridging channels', 'repaired channels': array(['T8'], dtype='<U32'), 'data quality': 'OK', 'no. segments': 1, 'artifact removal': 'none removed'}, 'data': array([[[-0.21084859,  0.25222785, -0.77498116, ...,  2.26253116,\n",
      "          3.6102961 ,  5.37712334],\n",
      "        [-1.35683882, -0.90141955, -1.56711216, ...,  2.03883348,\n",
      "          3.74883207,  6.10431593],\n",
      "        [ 1.37881776, -0.95878817, -2.73277053, ..., -3.68965368,\n",
      "         -2.17169108, -0.88550083],\n",
      "        ...,\n",
      "        [-5.44916493, -6.61697178, -6.73394103, ...,  7.16605136,\n",
      "          6.88611113,  6.31407556],\n",
      "        [-6.22063001, -7.02911733, -8.59877207, ..., -5.48729253,\n",
      "         -3.64204625, -1.7604055 ],\n",
      "        [-1.04064594,  2.11997718,  2.99081349, ..., -6.64664451,\n",
      "         -5.79171699, -5.14967823]]]), 'trl': array([[    0, 60015]]), 'artidata': [], 'arttrl': array([[ 8657,  9021],\n",
      "       [ 9052,  9415],\n",
      "       [24508, 24860],\n",
      "       [44167, 44532],\n",
      "       [54602, 54958],\n",
      "       [56841, 57334]]), 'Fs': 500, 'labels': array(['Fp1', 'Fp2', 'F7', 'F3', 'Fz', 'F4', 'F8', 'FC3', 'FCz', 'FC4',\n",
      "       'T7', 'C3', 'Cz', 'C4', 'T8', 'CP3', 'CPz', 'CP4', 'P7', 'P3',\n",
      "       'Pz', 'P4', 'P8', 'O1', 'Oz', 'O2', 'artifacts', 'VEOG', 'HEOG',\n",
      "       'Erbs', 'OrbOcc', 'Mass'], dtype='<U9'), 'neighblabels': {'Fp1': ['Fp2', 'F7', 'F3'], 'Fp2': ['Fp1', 'F8', 'F4'], 'F7': ['Fp1', 'F3', 'F7'], 'F3': ['Fp1', 'Fz', 'FC3', 'F7'], 'Fz': ['F4', 'FCz', 'F3'], 'F4': ['Fp2', 'F8', 'FC4', 'Fz'], 'F8': ['Fp2', 'F4', 'T8'], 'FC3': ['F3', 'C3', 'FCz'], 'FCz': ['Fz', 'FC3', 'FC4', 'Cz'], 'FC4': ['F4', 'FCz', 'C4'], 'T7': ['F7', 'P7', 'C3'], 'C3': ['FC3', 'Cz', 'CP3'], 'Cz': ['FCz', 'CPz', 'C3', 'C4'], 'C4': ['Cz', 'CP4', 'FC4'], 'T8': ['F8', 'P8', 'C4'], 'CP3': ['C3', 'CPz', 'P3'], 'CPz': ['Cz', 'CP4', 'CP3', 'Pz'], 'CP4': ['C4', 'P4', 'CPz'], 'P7': ['F7', 'P3', 'O1'], 'P3': ['P7', 'CP3', 'Pz', 'O1'], 'Pz': ['P3', 'CPz', 'P4', 'Oz'], 'P4': ['Pz', 'CP4', 'P8', 'O2'], 'P8': ['T8', 'P4', 'O2'], 'O1': ['P7', 'P3', 'Oz'], 'Oz': ['O1', 'Pz', 'O2'], 'O2': ['Oz', 'P4', 'P8']}}\n"
     ]
    }
   ],
   "source": [
    "print(data)"
   ]
  },
  {
   "cell_type": "code",
   "execution_count": 2,
   "id": "5f272dd7",
   "metadata": {},
   "outputs": [],
   "source": [
    "import pandas as pd\n",
    "\n",
    "# Load the datasets\n",
    "eeg_df = pd.read_csv(\"adhd_eeg_biomarkers.csv\")\n",
    "demo_df = pd.read_csv(\"TDBRAIN_participants_demographics_cleaned.csv\")"
   ]
  },
  {
   "cell_type": "code",
   "execution_count": 53,
   "id": "3273e661",
   "metadata": {},
   "outputs": [],
   "source": [
    "\n",
    "# Preprocess IDs to match (remove 'sub-' prefix from demographics)\n",
    "demo_df[\"participants_ID\"] = demo_df[\"participants_ID\"].str.replace(\"sub-\", \"\")\n",
    "eeg_df[\"subject_id\"] = eeg_df[\"subject_id\"].astype(str)\n",
    "\n",
    "# Merge EEG data with demographics on subject ID\n",
    "merged_df = pd.merge(eeg_df, demo_df, left_on=\"subject_id\", right_on=\"participants_ID\", how=\"inner\")"
   ]
  },
  {
   "cell_type": "code",
   "execution_count": 21,
   "id": "3d107e7a",
   "metadata": {},
   "outputs": [],
   "source": [
    "# save the merged DataFrame to a new CSV file\n",
    "merged_df.to_csv(\"merged_eeg_demographics.csv\", index=False)\n"
   ]
  },
  {
   "cell_type": "code",
   "execution_count": 22,
   "id": "52bb04c0",
   "metadata": {},
   "outputs": [
    {
     "data": {
      "text/html": [
       "<div>\n",
       "<style scoped>\n",
       "    .dataframe tbody tr th:only-of-type {\n",
       "        vertical-align: middle;\n",
       "    }\n",
       "\n",
       "    .dataframe tbody tr th {\n",
       "        vertical-align: top;\n",
       "    }\n",
       "\n",
       "    .dataframe thead th {\n",
       "        text-align: right;\n",
       "    }\n",
       "</style>\n",
       "<table border=\"1\" class=\"dataframe\">\n",
       "  <thead>\n",
       "    <tr style=\"text-align: right;\">\n",
       "      <th></th>\n",
       "      <th>subject_id</th>\n",
       "      <th>condition</th>\n",
       "      <th>sampling_rate</th>\n",
       "      <th>n_channels</th>\n",
       "      <th>duration_sec</th>\n",
       "      <th>filename</th>\n",
       "      <th>Fp1_total_power</th>\n",
       "      <th>Fp1_delta_abs</th>\n",
       "      <th>Fp1_delta_rel</th>\n",
       "      <th>Fp1_theta_abs</th>\n",
       "      <th>...</th>\n",
       "      <th>ADHD_Hyp_change</th>\n",
       "      <th>ADHD_Att_change</th>\n",
       "      <th>ADHD_Hyp_pct_improve</th>\n",
       "      <th>ADHD_Att_pct_improve</th>\n",
       "      <th>oddball_accuracy</th>\n",
       "      <th>wm_accuracy</th>\n",
       "      <th>treatment</th>\n",
       "      <th>group</th>\n",
       "      <th>age_group</th>\n",
       "      <th>treatment_response</th>\n",
       "    </tr>\n",
       "  </thead>\n",
       "  <tbody>\n",
       "    <tr>\n",
       "      <th>0</th>\n",
       "      <td>88044321</td>\n",
       "      <td>EC</td>\n",
       "      <td>500.0</td>\n",
       "      <td>26</td>\n",
       "      <td>120.016</td>\n",
       "      <td>sub-88044321_ses-1_task-restEC_eeg_csv_120.016...</td>\n",
       "      <td>28.180482</td>\n",
       "      <td>9.685684</td>\n",
       "      <td>34.370186</td>\n",
       "      <td>7.730094</td>\n",
       "      <td>...</td>\n",
       "      <td>NaN</td>\n",
       "      <td>NaN</td>\n",
       "      <td>NaN</td>\n",
       "      <td>NaN</td>\n",
       "      <td>0.024221</td>\n",
       "      <td>NaN</td>\n",
       "      <td>No</td>\n",
       "      <td>ADHD (No Treatment)</td>\n",
       "      <td>Children &amp; Adolescents (&lt;18 years)</td>\n",
       "      <td>NaN</td>\n",
       "    </tr>\n",
       "    <tr>\n",
       "      <th>1</th>\n",
       "      <td>88044321</td>\n",
       "      <td>EO</td>\n",
       "      <td>500.0</td>\n",
       "      <td>26</td>\n",
       "      <td>120.028</td>\n",
       "      <td>sub-88044321_ses-1_task-restEO_eeg_csv_120.028...</td>\n",
       "      <td>89.430857</td>\n",
       "      <td>22.143989</td>\n",
       "      <td>24.761016</td>\n",
       "      <td>8.675144</td>\n",
       "      <td>...</td>\n",
       "      <td>NaN</td>\n",
       "      <td>NaN</td>\n",
       "      <td>NaN</td>\n",
       "      <td>NaN</td>\n",
       "      <td>0.024221</td>\n",
       "      <td>NaN</td>\n",
       "      <td>No</td>\n",
       "      <td>ADHD (No Treatment)</td>\n",
       "      <td>Children &amp; Adolescents (&lt;18 years)</td>\n",
       "      <td>NaN</td>\n",
       "    </tr>\n",
       "    <tr>\n",
       "      <th>2</th>\n",
       "      <td>87976817</td>\n",
       "      <td>EO</td>\n",
       "      <td>500.0</td>\n",
       "      <td>26</td>\n",
       "      <td>120.574</td>\n",
       "      <td>sub-87976817_ses-1_task-restEO_eeg_csv_120.574...</td>\n",
       "      <td>20.775201</td>\n",
       "      <td>6.214399</td>\n",
       "      <td>29.912581</td>\n",
       "      <td>2.523195</td>\n",
       "      <td>...</td>\n",
       "      <td>NaN</td>\n",
       "      <td>NaN</td>\n",
       "      <td>NaN</td>\n",
       "      <td>NaN</td>\n",
       "      <td>NaN</td>\n",
       "      <td>NaN</td>\n",
       "      <td>No</td>\n",
       "      <td>Healthy Control</td>\n",
       "      <td>Adults (18-59 years)</td>\n",
       "      <td>NaN</td>\n",
       "    </tr>\n",
       "    <tr>\n",
       "      <th>3</th>\n",
       "      <td>87976817</td>\n",
       "      <td>EC</td>\n",
       "      <td>500.0</td>\n",
       "      <td>26</td>\n",
       "      <td>120.578</td>\n",
       "      <td>sub-87976817_ses-1_task-restEC_eeg_csv_120.578...</td>\n",
       "      <td>18.309868</td>\n",
       "      <td>3.867674</td>\n",
       "      <td>21.123438</td>\n",
       "      <td>2.123211</td>\n",
       "      <td>...</td>\n",
       "      <td>NaN</td>\n",
       "      <td>NaN</td>\n",
       "      <td>NaN</td>\n",
       "      <td>NaN</td>\n",
       "      <td>NaN</td>\n",
       "      <td>NaN</td>\n",
       "      <td>No</td>\n",
       "      <td>Healthy Control</td>\n",
       "      <td>Adults (18-59 years)</td>\n",
       "      <td>NaN</td>\n",
       "    </tr>\n",
       "    <tr>\n",
       "      <th>4</th>\n",
       "      <td>88064345</td>\n",
       "      <td>EO</td>\n",
       "      <td>500.0</td>\n",
       "      <td>26</td>\n",
       "      <td>119.668</td>\n",
       "      <td>sub-88064345_ses-1_task-restEO_eeg_csv_119.668...</td>\n",
       "      <td>34.911433</td>\n",
       "      <td>7.163206</td>\n",
       "      <td>20.518223</td>\n",
       "      <td>3.600683</td>\n",
       "      <td>...</td>\n",
       "      <td>NaN</td>\n",
       "      <td>NaN</td>\n",
       "      <td>NaN</td>\n",
       "      <td>NaN</td>\n",
       "      <td>0.171091</td>\n",
       "      <td>NaN</td>\n",
       "      <td>No</td>\n",
       "      <td>ADHD (No Treatment)</td>\n",
       "      <td>Children &amp; Adolescents (&lt;18 years)</td>\n",
       "      <td>NaN</td>\n",
       "    </tr>\n",
       "  </tbody>\n",
       "</table>\n",
       "<p>5 rows × 689 columns</p>\n",
       "</div>"
      ],
      "text/plain": [
       "  subject_id condition  sampling_rate  n_channels  duration_sec  \\\n",
       "0   88044321        EC          500.0          26       120.016   \n",
       "1   88044321        EO          500.0          26       120.028   \n",
       "2   87976817        EO          500.0          26       120.574   \n",
       "3   87976817        EC          500.0          26       120.578   \n",
       "4   88064345        EO          500.0          26       119.668   \n",
       "\n",
       "                                            filename  Fp1_total_power  \\\n",
       "0  sub-88044321_ses-1_task-restEC_eeg_csv_120.016...        28.180482   \n",
       "1  sub-88044321_ses-1_task-restEO_eeg_csv_120.028...        89.430857   \n",
       "2  sub-87976817_ses-1_task-restEO_eeg_csv_120.574...        20.775201   \n",
       "3  sub-87976817_ses-1_task-restEC_eeg_csv_120.578...        18.309868   \n",
       "4  sub-88064345_ses-1_task-restEO_eeg_csv_119.668...        34.911433   \n",
       "\n",
       "   Fp1_delta_abs  Fp1_delta_rel  Fp1_theta_abs  ...  ADHD_Hyp_change  \\\n",
       "0       9.685684      34.370186       7.730094  ...              NaN   \n",
       "1      22.143989      24.761016       8.675144  ...              NaN   \n",
       "2       6.214399      29.912581       2.523195  ...              NaN   \n",
       "3       3.867674      21.123438       2.123211  ...              NaN   \n",
       "4       7.163206      20.518223       3.600683  ...              NaN   \n",
       "\n",
       "   ADHD_Att_change  ADHD_Hyp_pct_improve  ADHD_Att_pct_improve  \\\n",
       "0              NaN                   NaN                   NaN   \n",
       "1              NaN                   NaN                   NaN   \n",
       "2              NaN                   NaN                   NaN   \n",
       "3              NaN                   NaN                   NaN   \n",
       "4              NaN                   NaN                   NaN   \n",
       "\n",
       "   oddball_accuracy  wm_accuracy  treatment                group  \\\n",
       "0          0.024221          NaN         No  ADHD (No Treatment)   \n",
       "1          0.024221          NaN         No  ADHD (No Treatment)   \n",
       "2               NaN          NaN         No      Healthy Control   \n",
       "3               NaN          NaN         No      Healthy Control   \n",
       "4          0.171091          NaN         No  ADHD (No Treatment)   \n",
       "\n",
       "                            age_group  treatment_response  \n",
       "0  Children & Adolescents (<18 years)                 NaN  \n",
       "1  Children & Adolescents (<18 years)                 NaN  \n",
       "2                Adults (18-59 years)                 NaN  \n",
       "3                Adults (18-59 years)                 NaN  \n",
       "4  Children & Adolescents (<18 years)                 NaN  \n",
       "\n",
       "[5 rows x 689 columns]"
      ]
     },
     "execution_count": 22,
     "metadata": {},
     "output_type": "execute_result"
    }
   ],
   "source": [
    "merged_df.head()"
   ]
  },
  {
   "cell_type": "code",
   "execution_count": 4,
   "id": "4a9dca35",
   "metadata": {},
   "outputs": [
    {
     "data": {
      "text/plain": [
       "((252, 58), (504, 631), (538, 689))"
      ]
     },
     "execution_count": 4,
     "metadata": {},
     "output_type": "execute_result"
    }
   ],
   "source": [
    "demo_df.shape, eeg_df.shape, merged_df.shape"
   ]
  }
 ],
 "metadata": {
  "kernelspec": {
   "display_name": "3.10.6",
   "language": "python",
   "name": "python3"
  },
  "language_info": {
   "codemirror_mode": {
    "name": "ipython",
    "version": 3
   },
   "file_extension": ".py",
   "mimetype": "text/x-python",
   "name": "python",
   "nbconvert_exporter": "python",
   "pygments_lexer": "ipython3",
   "version": "3.10.6"
  }
 },
 "nbformat": 4,
 "nbformat_minor": 5
}
